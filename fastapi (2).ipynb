{
 "cells": [
  {
   "cell_type": "code",
   "execution_count": 1,
   "id": "3ab821ae",
   "metadata": {},
   "outputs": [],
   "source": [
    "#pip install fastapi uvicorn pymongo sentence-transformers"
   ]
  },
  {
   "cell_type": "code",
   "execution_count": 2,
   "id": "594463b0",
   "metadata": {},
   "outputs": [],
   "source": [
    "#pip install tf_keras"
   ]
  },
  {
   "cell_type": "code",
   "execution_count": 4,
   "id": "c4475d56",
   "metadata": {},
   "outputs": [
    {
     "name": "stderr",
     "output_type": "stream",
     "text": [
      "C:\\Users\\agupt\\anaconda3\\Lib\\site-packages\\transformers\\tokenization_utils_base.py:1601: FutureWarning: `clean_up_tokenization_spaces` was not set. It will be set to `True` by default. This behavior will be depracted in transformers v4.45, and will be then set to `False` by default. For more details check this issue: https://github.com/huggingface/transformers/issues/31884\n",
      "  warnings.warn(\n"
     ]
    }
   ],
   "source": [
    "from fastapi import FastAPI, HTTPException\n",
    "from pydantic import BaseModel\n",
    "from pymongo import MongoClient\n",
    "from sentence_transformers import SentenceTransformer\n",
    "import numpy as np\n",
    "app = FastAPI()\n",
    "\n",
    "# Initialize MongoDB client and connect to the database\n",
    "client = MongoClient(\"mongodb://localhost:27017/documentsearch\")\n",
    "db = client.document_db\n",
    "collection = db.documents\n",
    "# Load the LLM model for embeddings (using a sentence-transformer model)\n",
    "model = SentenceTransformer('all-MiniLM-L6-v2')\n",
    "\n",
    "class Document(BaseModel):\n",
    "    title: str\n",
    "    content: str\n",
    "\n",
    "class SearchQuery(BaseModel):\n",
    "    query: str\n",
    "\n",
    "# Helper function to calculate cosine similarity\n",
    "def cosine_similarity(a, b):\n",
    "    return np.dot(a, b) / (np.linalg.norm(a) * np.linalg.norm(b))\n",
    "\n",
    "# Add a document to the database\n",
    "@app.post(\"/documents/\")\n",
    "async def add_document(doc: Document):\n",
    "    # Generate embedding for the document content\n",
    "    embedding = model.encode(doc.content).tolist()\n",
    "\n",
    "    # Insert document into MongoDB\n",
    "    collection.insert_one({\n",
    "        \"title\": doc.title,\n",
    "        \"content\": doc.content,\n",
    "        \"embedding\": embedding\n",
    "    })\n",
    "\n",
    "    return {\"message\": \"Document added successfully\"}\n",
    "\n",
    "# Search for documents based on a query\n",
    "@app.post(\"/search/\")\n",
    "async def search_documents(query: SearchQuery):\n",
    "    # Generate embedding for the search query\n",
    "    query_embedding = model.encode(query.query).tolist()\n",
    "\n",
    "    # Retrieve all documents from the database\n",
    "    documents = list(collection.find({}))\n",
    "\n",
    "    if not documents:\n",
    "        raise HTTPException(status_code=404, detail=\"No documents found\")\n",
    "\n",
    "    # Calculate similarity scores for each document\n",
    "    results = []\n",
    "    for doc in documents:\n",
    "        similarity = cosine_similarity(query_embedding, doc['embedding'])\n",
    "        results.append({\"title\": doc['title'], \"content\": doc['content'], \"similarity\": similarity})\n",
    "\n",
    "    # Sort the results by similarity\n",
    "    results.sort(key=lambda x: x['similarity'], reverse=True)\n",
    "\n",
    "    return results[:10]  # Return top 10 matching documents\n"
   ]
  },
  {
   "cell_type": "code",
   "execution_count": null,
   "id": "b6e60b59",
   "metadata": {},
   "outputs": [
    {
     "name": "stderr",
     "output_type": "stream",
     "text": [
      "INFO:     Started server process [21480]\n",
      "INFO:     Waiting for application startup.\n",
      "INFO:     Application startup complete.\n",
      "INFO:     Uvicorn running on http://127.0.0.1:8005 (Press CTRL+C to quit)\n"
     ]
    },
    {
     "name": "stdout",
     "output_type": "stream",
     "text": [
      "INFO:     127.0.0.1:65472 - \"GET / HTTP/1.1\" 404 Not Found\n",
      "INFO:     127.0.0.1:65472 - \"GET /favicon.ico HTTP/1.1\" 404 Not Found\n",
      "INFO:     127.0.0.1:65519 - \"GET /search/test HTTP/1.1\" 404 Not Found\n",
      "INFO:     127.0.0.1:65532 - \"GET /search/query/test HTTP/1.1\" 404 Not Found\n",
      "INFO:     127.0.0.1:65532 - \"GET /search/query/test HTTP/1.1\" 404 Not Found\n",
      "INFO:     127.0.0.1:49191 - \"GET / HTTP/1.1\" 404 Not Found\n",
      "INFO:     127.0.0.1:49280 - \"POST /search/ HTTP/1.1\" 404 Not Found\n",
      "INFO:     127.0.0.1:49280 - \"GET /search/ HTTP/1.1\" 405 Method Not Allowed\n",
      "INFO:     127.0.0.1:49294 - \"GET /search/query/FastAPI HTTP/1.1\" 404 Not Found\n",
      "INFO:     127.0.0.1:49313 - \"POST /search/query/FastAPI HTTP/1.1\" 404 Not Found\n",
      "INFO:     127.0.0.1:49317 - \"POST /search HTTP/1.1\" 307 Temporary Redirect\n",
      "INFO:     127.0.0.1:49317 - \"POST /search/ HTTP/1.1\" 404 Not Found\n",
      "INFO:     127.0.0.1:49319 - \"POST /search HTTP/1.1\" 307 Temporary Redirect\n",
      "INFO:     127.0.0.1:49319 - \"POST /search/ HTTP/1.1\" 422 Unprocessable Entity\n",
      "INFO:     127.0.0.1:49321 - \"POST /search HTTP/1.1\" 307 Temporary Redirect\n",
      "INFO:     127.0.0.1:49321 - \"POST /search/ HTTP/1.1\" 404 Not Found\n",
      "INFO:     127.0.0.1:49335 - \"POST /documents/ HTTP/1.1\" 200 OK\n",
      "INFO:     127.0.0.1:49339 - \"POST /search/ HTTP/1.1\" 200 OK\n",
      "INFO:     127.0.0.1:49892 - \"POST /search/ HTTP/1.1\" 200 OK\n",
      "INFO:     127.0.0.1:49896 - \"POST /search/ HTTP/1.1\" 200 OK\n",
      "INFO:     127.0.0.1:49903 - \"POST /documets/ HTTP/1.1\" 404 Not Found\n",
      "INFO:     127.0.0.1:49907 - \"POST /documents/ HTTP/1.1\" 200 OK\n",
      "INFO:     127.0.0.1:49921 - \"POST /search/ HTTP/1.1\" 200 OK\n",
      "INFO:     127.0.0.1:49923 - \"POST /search/ HTTP/1.1\" 200 OK\n"
     ]
    }
   ],
   "source": [
    "import asyncio\n",
    "import uvicorn\n",
    "\n",
    "if __name__ == \"__main__\":\n",
    "    #uvicorn.run(app, host=\"127.0.0.1\", port=8005)\n",
    "    config = uvicorn.Config(app, host=\"127.0.0.1\", port=8005)\n",
    "    server = uvicorn.Server(config)\n",
    "    await server.serve()"
   ]
  },
  {
   "cell_type": "code",
   "execution_count": null,
   "id": "e6531301",
   "metadata": {},
   "outputs": [],
   "source": []
  },
  {
   "cell_type": "code",
   "execution_count": null,
   "id": "3c233e20",
   "metadata": {},
   "outputs": [],
   "source": []
  },
  {
   "cell_type": "code",
   "execution_count": null,
   "id": "b6525e51",
   "metadata": {},
   "outputs": [],
   "source": []
  },
  {
   "cell_type": "code",
   "execution_count": null,
   "id": "aba72d36",
   "metadata": {},
   "outputs": [],
   "source": []
  },
  {
   "cell_type": "code",
   "execution_count": null,
   "id": "6fd32578",
   "metadata": {},
   "outputs": [],
   "source": []
  },
  {
   "cell_type": "code",
   "execution_count": null,
   "id": "f67a486f",
   "metadata": {},
   "outputs": [],
   "source": []
  }
 ],
 "metadata": {
  "kernelspec": {
   "display_name": "Python 3 (ipykernel)",
   "language": "python",
   "name": "python3"
  },
  "language_info": {
   "codemirror_mode": {
    "name": "ipython",
    "version": 3
   },
   "file_extension": ".py",
   "mimetype": "text/x-python",
   "name": "python",
   "nbconvert_exporter": "python",
   "pygments_lexer": "ipython3",
   "version": "3.11.7"
  }
 },
 "nbformat": 4,
 "nbformat_minor": 5
}
